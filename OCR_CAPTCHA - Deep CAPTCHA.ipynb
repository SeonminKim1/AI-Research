{
 "cells": [
  {
   "cell_type": "markdown",
   "id": "3fbb35d4",
   "metadata": {},
   "source": [
    "## OCR Captcha\n",
    "- Paper : (2020) Deep CAPTCHA. A deep learning based CAPTCHA solver for vulnerability assessment\n",
    "\n",
    "<hr>\n",
    "\n",
    "## 1. Abstract & Introduction\n",
    "- Captcha는 인간 지능을 모방하려는 bots, attacking programs, other computerised agent 등으로부터 접근을 막기 위한 시도.\n",
    "- CAPTCHA 생성기 시스템의 약점과 취약성을 조사 및 강력한 보안 문자 생성 시스템 개발\n",
    "- CAPTCHA는 숫자 형태나, 알파벳과 숫자가 섞인 형태일 수도 있고, 음성이나 이미지 일수도 있음\n",
    "- 텍스트 기반 보안 문자가 더 낮은 계산 비용과, 트래픽이 많아 밀집된 네트워크 및 웹사이트 공격에 더 일반적이기 때문에 텍스트 중심의 모델 개발\n",
    "\n",
    "![captcha_example](img/captcha_example.PNG)\n",
    "\n",
    "<hr>\n"
   ]
  },
  {
   "cell_type": "markdown",
   "id": "48d63222",
   "metadata": {},
   "source": [
    "\n",
    "## 2. Proposed Method\n",
    "- **Size Reduction**\n",
    "    - Original Size : 135x50 pixel => 67x25\n",
    "    - 많은 공백 영역과 상호 의존하는 인접 픽셀이 많아 크기를 줄임\n",
    "    - 시스템의 성능의 큰 감소 없이 거의 동일한 결과를 얻을 수 있음\n",
    "    - data entropy를 크게 줄이지 않고, 훈련이 더 빠르게 되도록 도움을 줌.\n",
    "    \n",
    "- **Colour space to Gray-space conversion**\n",
    "    - 비슷한 성능을 유지하며 데이터 크기를 줄이는 좋은 전처리 방법\n",
    "    \n",
    "- **Noise Reduction Algorithm**\n",
    "    - Median-Filter를 통해 노이즈 제거\n",
    "    - 주변 픽셀 값의 중앙값을 사용하여 이미지의 노이즈 제거\n",
    "    \n",
    "    \n",
    "## 2.1 Encoding\n",
    "- Captcha 인식 문제에서 특정 수의 클래스가 있는 분류문제와 달리 클래스 수는 설계된 CAPTCHA의 자릿수와 문자 집합의 길이에 따라 다름.\n",
    "    - EX) 5자리 숫자가 있는 경우 100000개의 다른 조합 가능\n",
    "- L 개의 parallel Softmax layers 이용 (아래그림의 B)\n",
    "\n",
    "![captcha_algorithm](img/captcha_algorithm.PNG)"
   ]
  },
  {
   "cell_type": "markdown",
   "id": "81db8d7b",
   "metadata": {},
   "source": [
    "<hr>\n",
    "\n",
    "## 2.2 Model Architecture\n",
    "- channel : 32, 48, 64\n",
    "- relu activation\n",
    "- 5x5 kernel\n",
    "- Dropout (30%)\n",
    "- 0.0001 learning rate\n",
    "- Adam, SGD Optimzer 사용 비교, Adam이 더 빨리 수렴\n",
    "- Binary Cross Entropy\n",
    "\n",
    "![captcha_model_structure](img/captcha_model_structure.PNG)\n",
    "\n",
    "![captcha_sgd_adam](img/captcha_sgd_adam.PNG)\n",
    "\n",
    "<hr>\n"
   ]
  },
  {
   "cell_type": "markdown",
   "id": "88ad6736",
   "metadata": {},
   "source": [
    "## 3. Experiments\n",
    "- Python ImageCaptcha 라이브러리를 사용한 700,000개의 alphanumerical CAPTCHAs 생성 및 학습\n",
    "- we only increased the number of neurons in each Softmax units from 10 to 31 to cover all common Latin characters and digits.\n",
    "\n",
    "![captcha_python_library](img/captcha_python_library.PNG)\n",
    "\n",
    "- 훈련 세트에서 99.33%, 테스트 데이터에서 98.94% 성능 도달\n",
    "- Accuracy 기준은 전체 글자가 모두 일치한 경우, 낱개로 측정시 더 올라간다고 함.\n",
    "\n",
    "![captcha_result](img/captcha_result.PNG)\n",
    "\n",
    "### 3.1 Vulnerability Assessment\n",
    "\n",
    "- 85%의 잘못 분류된 샘플 분석\n",
    "    - In 54% of the cases, the digits 3, 8, or 9 were the cause of the misclassification.\n",
    "    - In 81.8% of the cases, the misclassified digits were rotated for 10◦ or more.\n",
    "    - Confusion between the digits 1 and 7 was also another cause of the failures, particularly in case of more than 20◦counter-clockwise rotation for the digit 7.\n",
    "    \n"
   ]
  },
  {
   "cell_type": "markdown",
   "id": "5e4714f1",
   "metadata": {},
   "source": [
    "<hr>\n",
    "\n",
    "## 4. Comparision other models\n",
    "\n",
    "![captcha_recognition_model](img/captcha_recognition_model.png)\n"
   ]
  }
 ],
 "metadata": {
  "kernelspec": {
   "display_name": "Python 3",
   "language": "python",
   "name": "python3"
  },
  "language_info": {
   "codemirror_mode": {
    "name": "ipython",
    "version": 3
   },
   "file_extension": ".py",
   "mimetype": "text/x-python",
   "name": "python",
   "nbconvert_exporter": "python",
   "pygments_lexer": "ipython3",
   "version": "3.8.5"
  }
 },
 "nbformat": 4,
 "nbformat_minor": 5
}
