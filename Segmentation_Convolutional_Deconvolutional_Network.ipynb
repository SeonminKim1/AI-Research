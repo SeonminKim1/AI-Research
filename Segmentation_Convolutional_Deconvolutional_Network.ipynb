{
 "cells": [
  {
   "cell_type": "markdown",
   "metadata": {},
   "source": [
    "## FCN (Fully Convolutional Network) 문제점\n",
    "- 1) 대상 물체가 너무 큰 경우 파편화됨\n",
    "- 2) 너무 작은 경우 배경으로 무시됨. \n",
    "\n",
    "![conv_deconv_fcnproblem](img/conv_deconv_fcnproblem.jpg)"
   ]
  },
  {
   "cell_type": "markdown",
   "metadata": {},
   "source": [
    "<hr>\n",
    "\n",
    "## Convolutional Deconvolutional Network\n",
    "- VGG-16의 좌우 대칭적 구조\n",
    "- **Switch variables을 이용**한 FCN 보다 나은 결과를 보임\n",
    "\n",
    "![conv_deconv](img/conv_deconv.png)\n"
   ]
  },
  {
   "cell_type": "markdown",
   "metadata": {},
   "source": [
    "## Switch Varialbes\n",
    "\n",
    "![conv_deconv_switch_variables_img](img/conv_deconv_switch_variables_img.jpg)\n",
    "\n",
    "- **Maxpooling시 위치 정보 저장(가장 큰값들) switch** (ZFNet) (a->b)\n",
    "- (a->b)Downsampling을 하면서 switch variables을 통해 위치정보 기억 (a->b)\n",
    "- (a->b)**Pooling을 할 때 unpooling을 위해 원래 이미지의 switch variables(위치 정보)을 기억**\n",
    "- (b->c) Unpooling에 의해, 해상도가 커지는 대신 신호가 흩어져서 희소(sparse)해짐.\n",
    "- (c->d) deconvolution을 거치면, 디테일을 살려내면서 신호가 고르게 밀집(dense)됨.\n",
    "- **(a->d) convolution과 deconvolution간의 switch variables을 기억하고 있으면 더 정보를 보존 가능**\n",
    "\n",
    "\n",
    "\n",
    "![switch_unpooling_deconvolutional](img/switch_unpooling_deconvolutional.jpg)\n"
   ]
  },
  {
   "cell_type": "markdown",
   "metadata": {},
   "source": [
    "<hr>\n",
    "\n",
    "## VGG 모델 두개\n",
    "- 초기 모델이였고 많은 파라미터와 깊은 네트워크를 가지고 있음.\n",
    "- 많은 파라미터를 가진채 학습시키면 오버피팅이 발생\n",
    "    - Batch Normalization \n",
    "    - Data Augmentation (데이터에 variation을 주는 법) 하여 학습을 진행\n",
    "        - Pascal voc 데이터 이용 (약 300만장)\n",
    "\n",
    "- 굉장히 헤비해지는 문제 발생 => 2개의 stage를 나누어 학습을 시킴.\n",
    "    - 쉬운것들 먼저 학습하고, 어려운 것들을 나중에 학습하면서 Fine-tuning 진행\n",
    "    - Easy Image(20만장) : centered 위치, small object size variance 한 것들\n",
    "    - Hard Image(270만장) : Various position, size variance\n",
    "\n",
    "## 결론\n",
    "- **Downsampling을 진행하면서 Switch variables을 통해 위치정보를 저장**\n",
    "- **Upsampling 과정에서 switch variables을 이용하여 Unpooling 후 Deconvolution을 통해 보존 가능**\n",
    "\n",
    "- FCN 보다 세밀한 Feautre들을 잘 잡아낸다"
   ]
  },
  {
   "cell_type": "markdown",
   "metadata": {},
   "source": [
    "## 참고문헌\n",
    "- https://modulabs-biomedical.github.io/Learning_Deconvolution_Network_for_Semantic_Segmentation"
   ]
  }
 ],
 "metadata": {
  "kernelspec": {
   "display_name": "Python 3",
   "language": "python",
   "name": "python3"
  },
  "language_info": {
   "codemirror_mode": {
    "name": "ipython",
    "version": 3
   },
   "file_extension": ".py",
   "mimetype": "text/x-python",
   "name": "python",
   "nbconvert_exporter": "python",
   "pygments_lexer": "ipython3",
   "version": "3.7.5"
  }
 },
 "nbformat": 4,
 "nbformat_minor": 4
}
