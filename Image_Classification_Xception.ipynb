{
 "cells": [
  {
   "cell_type": "markdown",
   "metadata": {},
   "source": [
    "\n",
    "## Inception 목적 및 한계\n",
    "- Inception V1은 더욱 깊게 층을 쌓으려고 한 모델 -> 깊이 쌓을수록 파라미터의 수가 늘어나고, 컴퓨터 자원적 한계 존재\n",
    "- sparse connection 계산 (넓게 계산하는 것)\n",
    "    - 수학적으로 좋다고 증명 / 컴퓨터 자원적으로 단점이 존재\n",
    "- dense connection 계산 (concat, 합치는 것)\n",
    "    - 수학적으로 좋지 않다고 증명 / 컴퓨터 자원적으로 효율적 \n",
    "- 기존 Inception 모듈은 1x1 컨볼루션을 사용하지 않은 구조라 파라미터 많음\n",
    "- Inception V2는 5x5 -> 3x3 + 3x3으로 변경하여 사용 -> 28%의 파라미터 감소 효과\n",
    "\n",
    "\n",
    "## 인셉션 모듈의 주요 아이디어\n",
    "- Cross-channel correlation고 spatial correlation을 독립적으로 살펴볼 수 있게 함\n",
    "- (1) 먼저 1x1 convolution을 통해 cross-channel correlation을 살펴봄\n",
    "- (2) 입력 데이터를 원래의 공간보다 작은 3, 4개의 별도 공간에 mapping\n",
    "- (3) 이 작은 3D 공간의 모든 상관관계를 3x3, 5x5 convolution을 통해 mapping\n",
    "- (4) Single convolution kernel(filter) 하나가 하려는 것을 Spatial correlation(3x3, 5x5)을 분석해주면서 cross-channel correlation(1x1)으로 두 가지 역할을 잘 분산해줌\n",
    "\n",
    "<hr>"
   ]
  },
  {
   "cell_type": "markdown",
   "metadata": {},
   "source": [
    "### Cross-channel Correlation & Spatial correlation\n",
    "- Conv layer는 2개의 spatial dimension(width, height)과 channel dimension(채널별 연산)으로 이루어진 3D 공간에 대한 filter를 학습\n",
    "- 1x1는 cross-channel correlation과 spatial correlation을 동시에 mapping하는 작업을 수행\n",
    "\n",
    "- **Cross-channel correlation = Depthwise**\n",
    "- **Spatial correlation = Pointwise**"
   ]
  },
  {
   "cell_type": "markdown",
   "metadata": {},
   "source": [
    "## Xception\n",
    "- Xception 논문에서는 Inception 모듈이 왜 잘되는지에 대해 분석\n",
    "    - 첫 번째. 1x1 컨볼루션과 다양한 크기의 컨볼루션을 사용 및 채널별 상관관계(cross-channel correlation)와 공간적 상관관계(spatial correlation)를 동시에 적절히 수행할 수 있다는 주장\n",
    "- **Xception은 inception 모듈을 'extreme'하게 표현한 것이며, Depthwise separable convolution를 따라감 **\n",
    "- **순수 Depthwise separable convolution**\n",
    "    - 기존의 1x1 -> 3x3의 순서를 3x3 -> 1x1로 변경한 것\n",
    "    - 즉 먼저 channel-wise의 연산을 수행한 뒤, point-wise의 연산을 수행한다는 것\n",
    "    - Inception 모듈은 기존 컨볼루션 방식과 Xception의 Depthwise separable convolution의 중간 어딘가쯤 존재하는 것\n",
    "    - 즉, **Xception은 채널, 공간적 관계를 완전히 쪼개서 수행**해보겠다는 것 \n",
    "\n",
    "- \n",
    "![xception_architecture](img/xception_architecture.png)\n",
    "\n",
    "<hr>\n"
   ]
  },
  {
   "cell_type": "markdown",
   "metadata": {},
   "source": [
    "## A simplified inception module \n",
    "- 일반적인 Inception module\n",
    "![simple_inception_module](img/simple_inception_module.png)\n",
    "\n",
    "## An \"extreme\" version of inception module\n",
    "- input에 1x1 conv를 거침\n",
    "- 모든 channel을 분리시켜 output channel당 3x3 conv를 진행\n",
    "- 두 방향(channel wise, spatial)에 대한 mapping 분리 가능\n",
    "\n",
    "![xception](img/xception.png)\n"
   ]
  },
  {
   "cell_type": "markdown",
   "metadata": {},
   "source": [
    "<hr>\n",
    "\n",
    "## Xception vs Depthwise separable convolution\n",
    "- Depthwise separable conv를 Xception에서 처음 제시했지만 차이가 존재한다.\n",
    "- Inception을 따르는 Xception이기 때문에 Depthwise separable conv와는 비슷한 차이가 존재\n",
    "- (1) The order of the operations\n",
    "    - Xception은 1x1 conv가 먼저오고, 3x3이 뒤에옴. Depthwise separable conv는 반대\n",
    "    - Xceptions : 1x1 -> 3x3 방식\n",
    "    - Depthwise : 3x3 -> 1x1 방식\n",
    "\n",
    "- (2) The presence or absence of a non-linearity after the operation\n",
    "    - Xception : 1x1 -> Relu -> 3x3\n",
    "    - Depthwise : 1x1 이랑 spatial convolution사이에 Relu 같은 활성화 함수가 들어가지 않음\n",
    "    \n",
    "    "
   ]
  },
  {
   "cell_type": "markdown",
   "metadata": {},
   "source": [
    "### Xception 요약 (extreme Inception)\n",
    "- Inception 모듈이 왜 잘되었는지에 대한 분석 -> 1x1 컨볼루션과 다양한 크기의 컨볼루션을 사용 및 채널별 연산(cross-channel correlation)와 공간적 상관관계(spatial correlation)를 동시에 적절히 수행하여 잘된 것\n",
    "- Depthwise separable conv개념을 제안하며 depthwise conv와 pointwise간의 독립적인 계산을 제안\n",
    "- 단, Depthwise separable convolution 약간의 차이는 존재 \n",
    "    - Xceptions는(1x1->3x3)  / Depthwise separable conv는 (3x3 -> 1x1) \n",
    "    - Xceptions는 (1x1 -> relu -> 3x3) / Depthwise separable conv는 (1x1 -> 3x3) relu x"
   ]
  },
  {
   "cell_type": "markdown",
   "metadata": {},
   "source": [
    "## 참고문헌\n",
    "- https://sotudy.tistory.com/14\n",
    "- https://hwiyong.tistory.com/290\n"
   ]
  }
 ],
 "metadata": {
  "kernelspec": {
   "display_name": "Python 3",
   "language": "python",
   "name": "python3"
  },
  "language_info": {
   "codemirror_mode": {
    "name": "ipython",
    "version": 3
   },
   "file_extension": ".py",
   "mimetype": "text/x-python",
   "name": "python",
   "nbconvert_exporter": "python",
   "pygments_lexer": "ipython3",
   "version": "3.7.5"
  }
 },
 "nbformat": 4,
 "nbformat_minor": 4
}
