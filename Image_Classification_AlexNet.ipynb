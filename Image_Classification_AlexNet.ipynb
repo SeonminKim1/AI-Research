{
 "cells": [
  {
   "cell_type": "markdown",
   "metadata": {},
   "source": [
    "## AlexNet\n",
    "- Paper : \"ImageNet Classification with Deep Convolutional Neural Networks\n",
    "- 2012 ILSVRC (ImageNet Large-Scale Visual Recognition Challenge)\n",
    "\n",
    "![alexnet](img/alexnet.png)\n",
    "\n",
    "## GPU 학습\n",
    "- GPU-1 에서는 주로 컬러와 상관없는 정보를 추출하기 위한 Kernel이 학습\n",
    "- GPU-2 에서는 주로 컬러에 관련된 정보를 추출하기 위한 Kernel 학습\n",
    "- GPU GTX580 2개 사용\n",
    "\n",
    "<hr>\n"
   ]
  },
  {
   "cell_type": "markdown",
   "metadata": {},
   "source": [
    "\n",
    "## AlexNet 구조 및 Architecture\n",
    "- 전체적으로 2개의 GPU 기반한 병렬 구조인점을 뺴면 LeNet-5와 비슷\n",
    "- 논문의 그림에서는 224x224이나 완전체 구현을 위해선 227x227이 맞음\n",
    "- 8계층의 구조(5개의 컨볼루션 레이어와, 3개의 fully-connected 레이어로 구성)\n",
    "    - CMN-MN-CCM-FFF\n",
    "    \n",
    "![alexnet_architecture](img/alexnet_architecture.PNG)\n",
    "\n",
    "<hr>"
   ]
  },
  {
   "cell_type": "markdown",
   "metadata": {},
   "source": [
    "## Receptive Field\n",
    "- **Receptive Field는 필터가 한번에 보는 크기**\n",
    "- receptive field 는 출력 레이어의 뉴런 하나에 영향을 미치는 입력 뉴런들의 공간 크기\n",
    "\n",
    "- 즉 커널의 크기 이자 [w x h x 커널갯수]\n",
    "    - ex) 32x32x3 (RGB Image)인 경우 필터의 크기가 5x5x3 이면, Receptive Field도 5x5x3\n",
    "\n",
    "\n",
    "<hr>\n",
    "\n",
    "## AlexNet 성능개선 주요포인트\n",
    "- **AlexNet의 등장은 딥러닝, 특히 CNN이 본격적으로 주목 받게되는 계기가 되었고 여기서 소개된 ReLU, Dropout 등은 지금도 표준으로 사용되고 있음**\n",
    "\n",
    "- **(1) ReLU함수를 사용한 첫 모델 (Convolution에)\n",
    "    - Relu nonlinearity activation function을 사용하여 학습 속도 향상\n",
    "- **(2) 풀링시 Overpooling 방법 사용\n",
    "    - 아래 사진의 예시 s=2, z=3일때 \n",
    "    \n",
    "![nonoverpooling_vs_overpooling](img/nonoverpooling_vs_overpooling.PNG)\n",
    "\n",
    "- **(3) Overfitting 극복**\n",
    "    - data aumentation을 통한 데이터 양 증가\n",
    "    - Dropout 사용\n",
    "    \n",
    "- **(4) Local Response Normalization (LRN) 사용**\n",
    "    - 첫번째, 두번째 Convolutional Layer에만 적용 (현재는 BN 위주)\n",
    "    - 활성화된 뉴런들 중 강한 자극들이 보이고 약한 자극들은 더 안보이게 하는 Normalization 방법\n",
    "    - 같은 위치의 픽셀에 대해서 복수의 feature map간에 정규화를 하는 방법, 옆억제를 시행하는 정규화 방법\n",
    "    - 강한 자극이 주변의 약한자극을 전달하는 것을 막는 효과 \n",
    "    - ex) 3,4,5,6,7 번째 conv filter 중 3,4,6,7이 결과값이 높다면 5의 세기를 죽이는 것 \n",
    "\n",
    "<hr>"
   ]
  },
  {
   "cell_type": "markdown",
   "metadata": {},
   "source": [
    "\n",
    "## 비교대상\n",
    "- Sparse coding , SIFT+FVs보다 더 좋다고 함."
   ]
  },
  {
   "cell_type": "markdown",
   "metadata": {},
   "source": [
    "## 참고문헌\n",
    "- https://89douner.tistory.com/60\n",
    "- https://bskyvision.com/421"
   ]
  }
 ],
 "metadata": {
  "kernelspec": {
   "display_name": "Python 3",
   "language": "python",
   "name": "python3"
  },
  "language_info": {
   "codemirror_mode": {
    "name": "ipython",
    "version": 3
   },
   "file_extension": ".py",
   "mimetype": "text/x-python",
   "name": "python",
   "nbconvert_exporter": "python",
   "pygments_lexer": "ipython3",
   "version": "3.7.5"
  }
 },
 "nbformat": 4,
 "nbformat_minor": 4
}
