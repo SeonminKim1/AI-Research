{
 "cells": [
  {
   "cell_type": "markdown",
   "metadata": {},
   "source": [
    "## U-Net (2015)\n",
    "- Contracting Path\n",
    "    - 입력 이미지의 Context 포착\n",
    "    - 입력 이미지의 Feature Extrating\n",
    "    - VGG-Based Architecture\n",
    "    \n",
    "- Expanding Path\n",
    "    - **Upsampling 부분 / 세밀한 Localization을 위한 구성**\n",
    "    - 정확한 위치를 판별해야 하기 때문에 보다 세부적으로 해상도를 천천히 높여가는 것\n",
    "    - Coarse Map에서 Dense Prediction을 얻기 위한 구조\n",
    "    \n",
    "![unet1](img/unet1.png)\n",
    "\n",
    "<hr>"
   ]
  },
  {
   "cell_type": "markdown",
   "metadata": {},
   "source": [
    "## 1. Contracting Path\n",
    "- 매 Contracting Step마다 3x3 convolution, ReLU, Padding 없음\n",
    "- 2x2 maxpooling (stride : 2)\n",
    "- Down-sampling마다 채널의 수를 2배로 늘림\n",
    "\n",
    "<hr>"
   ]
  },
  {
   "cell_type": "markdown",
   "metadata": {},
   "source": [
    "## 2. Expanding Path\n",
    "- Expanding Step마다 2x2 Up-convolution 수행 (천천히 늘림)\n",
    "- Expanding Step마다 3x3 conv를 두차례씩 반복 (Relu 포함) (Padding 없음)\n",
    "- Upsampling 마다 Feature map의 크기가 2배로 늘어나며 수는 절반으로 줄어들음\n",
    "- **Up-conv된 특징맵은 Contracting Path의 테두리가 Cropped된 특징맵과 Concatenation**\n",
    "- 마지막 Layer에 1x1 conv 연산\n",
    "- 최종 Segmentation map의 크기는 Input Image 크기보다 작다.\n",
    "\n",
    "<hr>"
   ]
  },
  {
   "cell_type": "markdown",
   "metadata": {},
   "source": [
    "## 3. Overlap-Tite Input\n",
    "- Patch : Image recognition unit, 한번에 많은 부분을 보기 어려우니 이미지를 Patch(타일)로 나눠서 보자\n",
    "- Input(572x572) => Patch로 뽑아낸건 74x74 => 나머지 padding부분을 mirror padding을 통해 Image를 맞춘 다음 진행\n",
    "    - 일반적으론 zero-padding을 쓰는데, Mirror Padding 사용 (해당 부분을 대칭으로 채움)\n",
    "    - **Patch 작업 단위 때문에, 작아진 이미지에 대해 segmentation을 얻기 위해, 이전 영역의 일부분을 포함시키는 것(Copy and Crop을 통한 Concat)**\n",
    "- Mirror padding 작업시 다음 타일에서 이전 타일의 부분이 겹쳐져있어서 속도적인 부분도 개선 됨.\n",
    "\n",
    "![unet_mirroring](img/unet_mirroring.jpg)\n",
    "\n",
    "<hr>\n",
    "\n",
    "## 4. Data Augmentation\n",
    "- 3 by 3 elastic 변환 행렬을 사용하여 진행\n",
    "- Affine Transform (Rotation, Shearing, Translation, Scailing)\n",
    "- Elastic Distortion (벡터맵의 크기와 방향에 따라서 조절)\n",
    "\n",
    "\n",
    "![elastic_distortion](img/elastic_distortion.jpg)\n",
    "\n",
    "<hr>\n"
   ]
  },
  {
   "cell_type": "markdown",
   "metadata": {},
   "source": [
    "## U-Net 단점\n",
    "- 네트워크가 각 패치에 대해 개별적으로 실행되어야 하고 패치가 겹쳐 중복성이 많기 때문에 속도가 느림\n",
    "- Localization과 Context사이에 trade-off가 존재\n",
    "    - 큰 사이즈의 patches는 많은 max-pooling을 해야해서 localization의 정확도가 떨어질 수 있음\n",
    "    - 작은 사이즈의 patches는 협소한 context만 볼 수 있음.\n",
    "   "
   ]
  },
  {
   "cell_type": "markdown",
   "metadata": {},
   "source": [
    "## 요약\n",
    "- Contracting Path과 Expanding Path를 통한 U자형 모형 (Downsampling과 Upsampling)\n",
    "- 좀 더 정확한 Localization을 위해서 Contracting Path의 Feature를 Copy and Crop해서 Expanding Path와 Concat하여 Upsampling을 한다는 것\n"
   ]
  },
  {
   "cell_type": "markdown",
   "metadata": {},
   "source": [
    "<hr>\n",
    "\n",
    "### 결과\n",
    "- Stochastic Gradient Descent 사용, batch size를 좀 작게 학습 -> overlap-tile 방식을 통해서 큰 Receptied Field를 확보하는 것이 좋다라는 생각\n"
   ]
  }
 ],
 "metadata": {
  "kernelspec": {
   "display_name": "Python 3",
   "language": "python",
   "name": "python3"
  },
  "language_info": {
   "codemirror_mode": {
    "name": "ipython",
    "version": 3
   },
   "file_extension": ".py",
   "mimetype": "text/x-python",
   "name": "python",
   "nbconvert_exporter": "python",
   "pygments_lexer": "ipython3",
   "version": "3.7.5"
  }
 },
 "nbformat": 4,
 "nbformat_minor": 4
}
