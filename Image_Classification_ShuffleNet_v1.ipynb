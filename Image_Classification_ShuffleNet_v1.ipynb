{
 "cells": [
  {
   "cell_type": "markdown",
   "metadata": {},
   "source": [
    "## SheffleNet v1\n",
    "- Paper : (2017)_ShuffleNet-An Extremely Efficient Convolutional Neural Network for Mobile Devices\n",
    "- 배경\n",
    "    - 모바일, 임베디드 환경에 네트워크 적용을 위한 모델 크기를 줄이거나 성능을 유지하는 네트워크\n",
    "    - mobileNet에서 1x1 convolution이 대부분의 연산량을 차지하며 이러한 부분을 개선 목적\n",
    "\n",
    "- 이전 MobileNet에서의 핵심이 Depthwise separable convolution이였다면, ShuffleNet은 그것 이외에 2가지의 스킬을 가짐\n",
    "    - (Pointwise) Group Convolution\n",
    "    - Channel Shuffle\n",
    "<hr>\n"
   ]
  },
  {
   "cell_type": "markdown",
   "metadata": {},
   "source": [
    "### ShuffleNet 요약\n",
    "- Channel Shuffle : 1x1 pointwise group conv의 group 별 정보교환이 없는 문제점을 해결하기 위해 각 그룹의 Output을 중간단계에서 shuffle 및 group끼리 교환\n",
    "- (ResNet) : 1x1 -> 3x3 -> 1x1 의 bottleneck 구조 \n",
    "- (ResNetXt) : 1x1 gconv  -> channel shuffle -> 3x3conv -> 1x1 gconv\n",
    "- (shufflenet : stride2) 1x1conv -> channel shuffle -> 3x3 conv -> 1x1gconv -> concat \n",
    "- 일반적으로 Group 나눴을 때 더 결과가 좋으며, 더 작은 모델일수록 group=1일때에 비해, group이 늘어날때의 성능 차이가 커짐 -> 작은 모델일 수록 channel 수가 중요하다는 것"
   ]
  },
  {
   "cell_type": "markdown",
   "metadata": {},
   "source": [
    "\n",
    "## ShuffleNet 핵심 아이디어\n",
    "- **1. 1x1 Pointwise Group convolution**\n",
    "    - group convolution : Alexnet이 gpu 메모리 한계로 conv의 모든 채널을 한번에 학습할 수 없어 나눠서 학습한 것에서 착안 -> **AlexNet이 높게 나온건 해당시기엔 GPU때문이였지만 이런 Group화도 있다 라고 생각**\n",
    "    - 단 그룹별로 conv 진행시, group끼리의 cross talk(정보 교환)이 없기 때문에 전부 따로 학습하게 되는 부작용 존재.  ==> 피쳐의 Representation 약화 ==> Channel Shuffle 사용\n",
    "\n",
    "- **2. Channel Shuffle **\n",
    "    - 1x1 point wise group conv의 group 별 정보교환이 없는 문제점을 해결하기 위한 방안\n",
    "    - **각 그룹의 Output을 중간단계에서 shuffle 및 group끼리 교환 shuffle**\n",
    "\n",
    "![shufflenet_shuffle](img/shufflenet_shuffle.PNG)\n"
   ]
  },
  {
   "cell_type": "markdown",
   "metadata": {},
   "source": [
    "<hr>\n",
    "\n",
    "## ShuffleNet unit\n",
    "- (a) ResNet - Channel shuffle이 없는 unit\n",
    "- (b) ResNetXt - Channel shuffle 추가한 것\n",
    "- (c) ShuffleNet - Output 크기가 절반으로 줄어드는 연산을 하고 있기 때문에, AVG Pool을 통해 Shortcut path의 크기를 조절 및 Channel concat을 통한 channel dimension 증가\n",
    "\n",
    "![shufflenet_unit](img/shufflenet_unit.PNG)\n",
    "\n",
    "- input size = c * h * w , bottleneck channel = m\n",
    "- ResNet\n",
    "    - 첫 1x1 conv = hwcm / 마지막단 1x1 conv도 hwmc => 2hwmc\n",
    "    - 중간 3x3 conv = h x w x m => bottleneck이 m 연산량은 9 hwmm^2\n",
    "\n",
    "- ShuffleNet\n",
    "    - group별 연산이므로 2hwmc/g + 9mhw (3x3 DWConv) => hw(2cm/g + 9m)\n",
    "    \n",
    "<table>\n",
    "    <thead><tr><td>ResNet</td><td>ResNeXt</td><td>ShuffleNet</td></tr></thead>\n",
    "    <tr><td>hw(2cm + 9m^2)</td><td>hw(2cm + 9m^2 / g)</td><td>hw(2cm/g + 9m)</td></tr>\n",
    "</table>\n",
    "\n",
    "<hr>\n"
   ]
  },
  {
   "cell_type": "markdown",
   "metadata": {},
   "source": [
    "## Group 수 별 실험결과\n",
    "- Complexity가 모두 비슷하게 맞춰져있음\n",
    "- Group의 수를 늘리면서 얻어진 이득(연산량 감소)에 따라 그만큼 Channel 수를 늘린 것)\n",
    "\n",
    "![shufflenet_architecture](img/shufflenet_architecture.PNG)\n"
   ]
  },
  {
   "cell_type": "markdown",
   "metadata": {},
   "source": [
    "<hr>\n",
    "\n",
    "## ShuffleNet 추가실험 - Complexity & error\n",
    "- ShuffleNet의 파라미터 갯수를 Scale로 주어가며 실험\n",
    "- 일반적으로 Group 나눴을 때 더 결과가 좋음\n",
    "- **더 작은 모델일수록 group=1일때와, group이 늘어날때의 성능 차이가 커짐**\n",
    "    - -> **작은 모델일 수록 channel 수가 중요하다는 것**\n",
    "    \n",
    "![shufflenet_complexity](img/shufflenet_complexity.PNG)"
   ]
  },
  {
   "cell_type": "markdown",
   "metadata": {},
   "source": [
    "<hr>\n",
    "\n",
    "## Shufflenet vs Mobilenet\n",
    "\n",
    "- MobileNet과 Complexity를 비슷하게 맞추어놓고 실험시 더 좋은 성능을 가짐\n",
    "\n",
    "![shufflenet_vs_mobilenet](img/shufflenet_vs_mobilenet.png)"
   ]
  },
  {
   "cell_type": "markdown",
   "metadata": {},
   "source": [
    "## ShuffleNet - InferenceTime\n",
    "\n",
    "![shufflenet_result_inferencetime](img/shufflenet_result_inferencetime.PNG)"
   ]
  },
  {
   "cell_type": "markdown",
   "metadata": {},
   "source": [
    "## 참고문헌\n",
    "- https://masterzone.tistory.com/45\n",
    "- https://hichoe95.tistory.com/54\n"
   ]
  }
 ],
 "metadata": {
  "kernelspec": {
   "display_name": "Python 3",
   "language": "python",
   "name": "python3"
  },
  "language_info": {
   "codemirror_mode": {
    "name": "ipython",
    "version": 3
   },
   "file_extension": ".py",
   "mimetype": "text/x-python",
   "name": "python",
   "nbconvert_exporter": "python",
   "pygments_lexer": "ipython3",
   "version": "3.7.5"
  }
 },
 "nbformat": 4,
 "nbformat_minor": 4
}
