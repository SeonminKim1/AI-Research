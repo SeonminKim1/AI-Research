{
 "cells": [
  {
   "cell_type": "markdown",
   "metadata": {},
   "source": [
    "## Mask R-CNN\n",
    "- Paper : (2018)Mask_R-CNN\n",
    "- Faster R-CNN기반 구조 (+) mask branch / FPN / RoI-align 추가\n",
    "- Backbone은 ResNet 기반으로 하였다고 함.\n",
    "\n",
    "\n",
    "## RCNN Family\n",
    "![rcnn_family](img/rcnn_family.png)\n",
    "\n",
    "- Detection (RCNN, Fast RCNN, Faster RCNN) \n",
    "- Segmentation (Mask RCNN)"
   ]
  },
  {
   "cell_type": "markdown",
   "metadata": {},
   "source": [
    "<hr>\n",
    "\n",
    "## Mask R-CNN\n",
    "- Faster R-CNN = RPN + Fast R-CNN\n",
    "- Faster R-CNN branch에 새롭게 mask branch 추가\n",
    "- RPN 전에 FPN(Feature pyramid network) 추가\n",
    "- Image Segmentation masking을 위해 ROI Pooling을 Align으로 변경 \n",
    "\n",
    "![maskrcnn](img/maskrcnn.png)\n",
    "\n",
    "## Mask R-CNN Process\n",
    "- 1. backbone network input을 위한 1024x1024 \n",
    "- 2. ResNet-101을 통한 각 layer에서 feature map 생성 (c1~c5..)\n",
    "- 3. **FPN을 통해 이전에 생성된 Feautre map**(c1..c5)에서 feature map(p2.. p6) 생성\n",
    "    - 이전 중간 Feature map들을 더하면서 이전 정보를 유지함.\n",
    "- 4. **최종 생성된 feature map에 각각 RPN을 적용**하여 Classification, bbox regression output 도출\n",
    "    - RPN에 보내기 전, 3x3 conv 연산 거친 후 내보낸다. (조합으로 인해 Feature가 망가졌을 수 있기 때문)\n",
    "- 5. Output으로 얻은 bbox regression 값을 원래 이미지로 projection 시켜 anchor box 생성\n",
    "- 6. NMS를 통해 생성된 Anchor box 중 score가 가장 높은 anchor box 제외하고 모두 삭제\n",
    "    - Box 여러개 있는 모습에서 줄이는 것\n",
    "- 7. **각각 크기가 서로 다른 anchor box들을 ROI Align을 통해 size를 맞춰줌**\n",
    "- 8. classification, bbox regression branch, mask branch에 anchor box 값 통과\n",
    "\n",
    "<hr>"
   ]
  },
  {
   "cell_type": "markdown",
   "metadata": {},
   "source": [
    "## ROI Align\n",
    "- 기존 ROI Pooling : Object Detection을 위한 모델이였기에, 정확한 위치 정보를 담는것이 중요하지 않음. 인접 픽셀들로 반올림 후 box를 이동한다음 ROI Pooling\n",
    "    - 15*25 / 128 => 2.93 픽셀이고 이런경우 0.93픽셀이 증발하여 구역화에 문제가 있음\n",
    "\n",
    "- **Segmentation은 정확한 위치 정보가 필욯기 때문에 기존 ROI Pooling 방식이 적합하지 않음.**\n",
    "    - Pooling시 Pixel 좌표 간 Bilinear interpolation을 진행하여, 위치정보를 담음.\n",
    "\n",
    "![maskrcnn_roialign](img/maskrcnn_roialign.png)\n"
   ]
  },
  {
   "cell_type": "markdown",
   "metadata": {},
   "source": [
    "<hr>\n",
    "\n",
    "## 요약 - Mast RCN\n",
    "- 기존 Faster R-CNN기반 구조 (+) mask branch / FPN / RoI-align 추가\n",
    "- RPN전 Backbone단에서, FPN을 통해 이전에 생성된 Feautre map (c1..c5)에서 feature map(p2.. p6) 생성 (이전 중간 Feature map들을 더하면서 이전 정보를 유지함)\n",
    "- ROI Pooling 대신 ROI-Align을 통해 픽셀에 대한 Bilinear Interpolation 보정 Pooling을 해줌."
   ]
  }
 ],
 "metadata": {
  "kernelspec": {
   "display_name": "Python 3",
   "language": "python",
   "name": "python3"
  },
  "language_info": {
   "codemirror_mode": {
    "name": "ipython",
    "version": 3
   },
   "file_extension": ".py",
   "mimetype": "text/x-python",
   "name": "python",
   "nbconvert_exporter": "python",
   "pygments_lexer": "ipython3",
   "version": "3.7.5"
  }
 },
 "nbformat": 4,
 "nbformat_minor": 4
}
