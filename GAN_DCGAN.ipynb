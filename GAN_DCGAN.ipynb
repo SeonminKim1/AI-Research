{
 "cells": [
  {
   "cell_type": "markdown",
   "metadata": {},
   "source": [
    "## DCGAN\n",
    "- Paper : (2016) DCGAN - Unsupervised Representation Learning with Deep - Convolutional Generative Adversarial Networks\n",
    "- Generator에 대한 안정성(z의 미세한 변동에 따른 Generate 결과가 연속적으로 부드럽게 나타내 져야함, walking in the latent space)\n",
    "\n",
    "### Walking in the latent space 예시\n",
    "\n",
    "![dcgan_walking_in_the_latent_space](img/dcgan_walking_in_the_latent_space.png)\n",
    "\n",
    "## Abstract\n",
    "![dcgan_architecture2](img/dcgan_architecture2.png)\n",
    "\n",
    "- Fractional-strided conv : Pooling layer 사용, Stride Conv 사용\n",
    "- 배치정규화 o , FC Layer x\n",
    "- Activation Function : Generator는 ReLu, Tanh, Discriminator는 LeakyRelu\n",
    "\n",
    "\n",
    "<hr>\n",
    "\n",
    "\n",
    "## 기존 GAN의 문제\n",
    "- 1. GAN은 결과가 불안정\n",
    "    - 기존 GAN만 가지고는 좋은 성능이 잘 안나옴. (MLP 기반)\n",
    "- 2. Black-box 문제\n",
    "- 3. Generative Model 평가지표의 부재\n",
    "\n"
   ]
  },
  {
   "cell_type": "markdown",
   "metadata": {},
   "source": [
    "<hr>\n",
    "\n",
    "## DCGAN Architecture\n",
    "\n",
    "- 100 Dimensional uniform distribution(Z)이 들어오면 이들이 4개의 Fractionally-strided convolution layer를 거침\n",
    "- Fractionally strided conv를 통해 크기를 키워 더 높은 차원의 64x64 pixel 이미지 생성\n",
    "\n",
    "![dcgan_architecture](img/dcgan_architecture.png)"
   ]
  },
  {
   "cell_type": "markdown",
   "metadata": {},
   "source": [
    "## 테스트 데이터셋\n",
    "- 세 가지 데이터셋에 대해 DCGAN을 이용하여 학습 결과 제시\n",
    "    - LSUN (Large-scale Scene Understanding): 침실 사진들이 모여있는 데이터셋\n",
    "    - FACES: web에서 가져온 random image들"
   ]
  },
  {
   "cell_type": "markdown",
   "metadata": {},
   "source": [
    "## 참고문헌\n",
    "- https://angrypark.github.io/generative%20models/paper%20review/DCGAN-paper-reading/\n",
    "- http://jaejunyoo.blogspot.com/2017/02/deep-convolutional-gan-dcgan-2.html"
   ]
  }
 ],
 "metadata": {
  "kernelspec": {
   "display_name": "Python 3",
   "language": "python",
   "name": "python3"
  },
  "language_info": {
   "codemirror_mode": {
    "name": "ipython",
    "version": 3
   },
   "file_extension": ".py",
   "mimetype": "text/x-python",
   "name": "python",
   "nbconvert_exporter": "python",
   "pygments_lexer": "ipython3",
   "version": "3.7.5"
  }
 },
 "nbformat": 4,
 "nbformat_minor": 4
}
