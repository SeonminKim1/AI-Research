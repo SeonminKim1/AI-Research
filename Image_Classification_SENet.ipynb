{
 "cells": [
  {
   "cell_type": "markdown",
   "metadata": {},
   "source": [
    "## SENet\n",
    "- Paper(CVPR) : SENet-Squeeze and Excitation Network, 2018\n",
    "- 기존 어떤 모델에도 적용될 수 있는 SE block이라는 것을 제안\n",
    "- 특성맵(X, U), Squeeze를 통해 C개 채널의 2차원(H x W)의 특성맵들을 1x1 사이즈의 특성맵으로 변환\n",
    "- SENet의 **SE block의 목적은 컨볼루션을 통해 생성된 특성을 채널당 중요도를 고려해서 재보정(recalibration)하는 것**\n",
    "- SE block을 Conv 연산 뒤에 붙여줌으로서 다양한 모델들의 성능향상 도모\n",
    "\n",
    "![Senet_block](img/Senet_block.png)"
   ]
  },
  {
   "cell_type": "markdown",
   "metadata": {},
   "source": [
    "<hr>\n",
    "\n",
    "## Squeeze & Excitation block (SE-Block)\n",
    "\n",
    "### Squeeze Block : Global Information Embedding\n",
    "- GAP(global average pooling)을 통해 각 2차원의 특성맵을 평균내어 하나의 값을 얻음\n",
    "\n",
    "![SENet_GAP](img/SENet_GAP.png)\n",
    "\n",
    "- 이로 인해 각 채널을 하나의 숫자로 묘사하고, 1x1xC의 특성맵으로 스퀴즈됨.\n",
    "    - **Convolution이 local정보를 다룬다면, 스퀴즈는 global 정보를 다루는 것)**\n",
    "\n",
    "<hr>\n"
   ]
  },
  {
   "cell_type": "markdown",
   "metadata": {},
   "source": [
    "\n",
    "### Excitation Block : Adaptive Recalibration\n",
    "\n",
    "![SENet_excitation_module](img/SENet_excitation_module.png)\n",
    "\n",
    "- 스퀴즈 후에는 활성화(excitation) 작업에 돌입, **두 개의 Fully-connected(FC) 층을 더해줘서 각 채널의 상대적 중요도를 알아냄**\n",
    "- FC 층들이 병목(bottle-neck) 구조가 되게 만듬 (큰작큰)\n",
    "    - hyper-parameter의 갯수를 많이 늘리지 않고, 일반화 목적\n",
    "        \n",
    "![SENet_excitation_module2](img/SENet_excitation_module2.png)\n",
    "\n",
    "![SENet_excitation](img/SENet_excitation.png)\n",
    "\n",
    "## SE-Block의 장점\n",
    "- **기존 CNN architecture에 붙여서 사용할 수 있다는 점 (ex. SE-ResNet)**\n",
    "- Inception module, ResNet module에도 부착이 가능하며 실제로 저자들이 ResNet, ResNext, Inception 등에 SE block을 추가한 결과 연산량은 미미하게 증가하였지만 정확도가 많이 향상"
   ]
  },
  {
   "cell_type": "markdown",
   "metadata": {},
   "source": [
    "## 참고문헌\n",
    "- https://bskyvision.com/640"
   ]
  }
 ],
 "metadata": {
  "kernelspec": {
   "display_name": "Python 3",
   "language": "python",
   "name": "python3"
  },
  "language_info": {
   "codemirror_mode": {
    "name": "ipython",
    "version": 3
   },
   "file_extension": ".py",
   "mimetype": "text/x-python",
   "name": "python",
   "nbconvert_exporter": "python",
   "pygments_lexer": "ipython3",
   "version": "3.7.5"
  }
 },
 "nbformat": 4,
 "nbformat_minor": 4
}
