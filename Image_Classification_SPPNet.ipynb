{
 "cells": [
  {
   "cell_type": "markdown",
   "metadata": {},
   "source": [
    "## SPPNet\n",
    "- Paper : Spatial Pyramid Pooling in Deep Convolutional Networks for Visual Recognition\n",
    "\n",
    "## Abstract\n",
    "- 현존 CNN은 고정 크기의 입력 이미지를 요구 (224x224)\n",
    "    - 이는 '인위적'이며 이미지에 대한 인식 정확도를 해침\n",
    "    - 신경망 통과하기위해선 이미지를 고정된 크기로 crop or 비율조정(warp)해야 했음.\n",
    "    - **이미지의 크기나 비율에 관계없이 학습하고자 함**\n",
    "    - 사실 Conv layer는 이미지의 크기나 비율이 상관없음. / FC Layer만 상관있음.\n",
    "    - **Classification 보다는 Detection에서의 활용도가 더 큼(Fast R-CNN 발판)**\n",
    "- **입력 이미지의 크기에 관계없이 Conv 통과시키고, FC Layer통과전에 피쳐맵들을 동일한 크기로 조절해주는 Pooling을 적용하자.**\n",
    "\n",
    "## SPP Net 순서\n",
    "\n",
    "![spp](img/spp.png)\n",
    "\n",
    "- (1) Conv Layer들을 거쳐 추출된 피쳐맵을 인풋으로 받음\n",
    "- (2) 이를 미리 정해져 있는 영역으로 나누어 줌 \n",
    "    - 예시로는 4x4, 2x2, 1x1이며 각각을 하나의 피라미드라고 부름\n",
    "    - 해당 예시는 3개의 피라미드인 것이며, 피라미드 한칸을 bin 이라고 함.\n",
    "    - 입력이 64 x 64 x 256 크기의 피쳐 맵이 들어온다고 했을 때, 4x4의 피라미드의 bin의 크기는 16x16이 됨.\n",
    "\n",
    "- (3) 각 bin에서 가장 큰 값만 추출하는 max pooling을 수행 및 쭉 이어붙임.\n",
    "    - 고정 길이의 대표값(representation)을 생성함.\n",
    "    - 입력 피쳐맵의 체널 크기를 k, bin의 개수를 M 이라고 가정시\n",
    "    - SPP의 최종 아웃풋은 kM 차원의 벡터이며 위 예시는 (k = 256, M = (16 + 4 + 1) = 21)\n",
    "- (4) **즉 입력 이미지의 크기와는 상관없이 미리 설정한 bin의 개수와 CNN 채널 값으로 SPP의 출력이 결정되며, 항상 동일한 크기의 결과를 리턴**\n",
    "- (5) 실제 실험에서 저자들은 1x1, 2x2, 3x3, 6x6 총 4개의 피라미드로 SPP를 적용\n",
    "\n",
    "## SPPNet의 핵심\n",
    "- (1) 입력 크기에 관계없이 고정길이 출력을 생성 가능\n",
    "- (2) SPPNet은 다단계 공간을 사용 (나눴을 떄 여러 크기의 box가 존재한다는 것, 여러 피라미드)\n",
    "- (3) 입력 스케일의 유연성 때문(다양함)에 가변 스케일의 features들을 추출 가능\n",
    "\n",
    "\n",
    "## 모델 및 결과\n",
    "\n",
    "### Structure 모델\n",
    "\n",
    "![spp_model_structure](img/spp_model_structure.PNG)\n",
    "\n",
    "### Test 결과\n",
    "![spp_test_result](img/spp_test_result.PNG)\n",
    "\n",
    "## RCNN vs SPPNet\n",
    "![spp_vs_rcnn](img/spp_vs_rcnn.png)\n",
    "\n",
    "\n",
    "## 기타\n",
    "- pyramid pooling은 object 변형(+ Object Detection)에도 강건\n",
    "- 테스트 이미지 처리시에 이 방법은 R-CNN보다 20~102배 빠르고 정확도는 비슷함. \n",
    "- ILSVRC 2014에서 detection 부문 2위, classification 부문 3위함.\n"
   ]
  },
  {
   "cell_type": "markdown",
   "metadata": {},
   "source": []
  }
 ],
 "metadata": {
  "kernelspec": {
   "display_name": "Python 3",
   "language": "python",
   "name": "python3"
  },
  "language_info": {
   "codemirror_mode": {
    "name": "ipython",
    "version": 3
   },
   "file_extension": ".py",
   "mimetype": "text/x-python",
   "name": "python",
   "nbconvert_exporter": "python",
   "pygments_lexer": "ipython3",
   "version": "3.7.5"
  }
 },
 "nbformat": 4,
 "nbformat_minor": 4
}
