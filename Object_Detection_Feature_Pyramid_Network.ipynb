{
 "cells": [
  {
   "cell_type": "markdown",
   "metadata": {},
   "source": [
    "## Object Detection - FPN(Feature Pyramid Network)\n",
    "- Paper : (2016)FPN-Feature Pyramid Networks for Object Detection\n",
    "\n",
    "## Feature Pyramid Network\n",
    "- Bottom-up & Top-down 방식 Feature Extraction\n",
    "- **low-resolution 및 high-resolution을 묶어서 잘 사용하는 방식**\n",
    "- **각 레벨에서 독립적으로 특징을 추출**하며 객체를 탐지, **상위 레벨의 특징을 재사용하여 Multi-scale 특징들을 효율적으로 사용 가능**\n",
    "- but '다른 논문들은 skip connection을 이용해 정보를 잘 담고 있는 하나의 feature map을 만드는 것이 최종 목표고 **우리는 각 레벨에서도 독립적으로 잘 예측하는 Architecture를 만드는게 목표'**\n",
    "\n",
    "![FPN_Network](img/FPN_Network.png)"
   ]
  },
  {
   "cell_type": "markdown",
   "metadata": {},
   "source": [
    "## Bottom-up pathway\n",
    "- 상향식 과정에서는 Backbone ConvNet의 Feedforward 계산 (일반 Conv진행한다는 것)\n",
    "- 각 단계의 마지막 레이어의 출력을 특징 맵의 Reference Set 으로 선택\n",
    "- 피라미드를 풍부하게 생성하며, 각 단계의 가장 깊은 레이어에는 가장 영향력 있는 특징이 있어야 함\n",
    "- ResNet의 경우 각 단계의 마지막 잔차 블록(Residual Block)에서 출력되는 Feature Activation이 해당\n",
    "\n",
    "## Top-down pathway and lateral connections\n",
    "- 하향식 과정은 많은 의미 정보들을 가지고 있는 특징 맵을 2배로 업샘플링(Up-sampling)하여, 더 높은 해상도의 이미지를 만드는 역할을 수행\n",
    "- **Top-down 중 skip-connection을 통해 같은 사이즈의 bottom-up Feature map과 합쳐서 손실된 정보를 보충**\n",
    "- **1x1 convolution으로 채널수를 맞춰준다음 element-wise 진행**\n",
    "- Top-down 과정에서 매 레이어 마다 classfifier, regressor 가 적용\n",
    "- 같은 classfifier / regressor 를 사용하기 때문에 element-wise 해온 채널이 256으로 전부 같음.\n",
    "\n",
    "<hr>\n"
   ]
  },
  {
   "cell_type": "markdown",
   "metadata": {},
   "source": [
    "## 요약\n",
    "- Bottom-up : 일반 Conv 과정 (ResNet)\n",
    "- Top-down : up-sampling 정보 + skip-connection을 통해 bottom-up 정보를 합쳐, 손실된 정보를 보충\n",
    "- 1x1 conv를 통한 채널수 맞추고 element-wise, 각 모든 레벨에서 독립적으로 잘 예측 할 수 있는 Architecture를 만들며, 각 level마다 classifier와 regressor가 존재"
   ]
  },
  {
   "cell_type": "markdown",
   "metadata": {},
   "source": [
    "## 참고문헌\n",
    "- https://eehoeskrap.tistory.com/300\n",
    "- https://velog.io/@haejoo/Feature-Pyramid-Networks-for-Object-Detection-%EB%85%BC%EB%AC%B8-%EC%A0%95%EB%A6%AC"
   ]
  }
 ],
 "metadata": {
  "kernelspec": {
   "display_name": "Python 3",
   "language": "python",
   "name": "python3"
  },
  "language_info": {
   "codemirror_mode": {
    "name": "ipython",
    "version": 3
   },
   "file_extension": ".py",
   "mimetype": "text/x-python",
   "name": "python",
   "nbconvert_exporter": "python",
   "pygments_lexer": "ipython3",
   "version": "3.7.5"
  }
 },
 "nbformat": 4,
 "nbformat_minor": 4
}
