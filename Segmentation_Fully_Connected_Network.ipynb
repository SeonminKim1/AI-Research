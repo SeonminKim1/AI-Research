{
 "cells": [
  {
   "cell_type": "markdown",
   "metadata": {},
   "source": [
    "## Segmentation 모델들의 공통 부분\n",
    "\n",
    "- Encoder <-> Decoder (Downsampling - Upsampling)\n",
    "    - 이미지를 보다 압축하고\n",
    "\n",
    "- Bottom-up(자잘한 영역을 만들어놓고 점점 묶어나감)\n",
    "    - 너무 많은 영역을 잡지 않는 것이 중요\n",
    "- Top-down(최대한 크게 잡고 세밀하게 잘라나가는)\n",
    "\n",
    "## Segmentation\n",
    "- 1) Region Baesd Segmantation\n",
    "    - Proposal된 Region들에 초점을 맞춰서 진행함\n",
    "    - Object Detection을 base로 함 (즉 object detection으로 찾은것을 기반으로 작업~)\n",
    "    - ROI Align 기법을 통한 Object가 있을 만한 곳을 찾음\n",
    "    - Mask R-CNN, SDS, Hypercolumns\n",
    "    \n",
    "- 2) Fully Convolutional Network-Based Semantic Segmentation\n",
    "    - Encoder와 Decoder와 비슷 (다운샘플링, 업샘플링)\n",
    "    - 전체 픽셀들을 연결시켜 작업하는 것. (좀더 one-shot의 느낌)\n",
    "    - SegNet, DeepLab-CRF, Dilated Convolutions\n",
    "\n",
    "- 3) Weakly Supervised Semantic Segmentation\n",
    "    - annotation이 되어있는 bounding boxes를 통해서 해당 learning을 수행\n",
    "    - Boxsup \n",
    "    - 잘 쓰이지는 않으나 나름 참신했다고 함.\n",
    "    \n",
    "<hr>"
   ]
  },
  {
   "cell_type": "markdown",
   "metadata": {},
   "source": [
    "## FCN (Fully Connected Network)\n",
    "- Paper : Fully Convolutional Networks for Semantic Segmentation\n",
    "- 일반적으로 공간의 위치정보를 FC는 잘 나타내지 못한다.\n",
    "\n",
    "![fcn1](img/fcn1.png)\n",
    "\n",
    "<hr>"
   ]
  },
  {
   "cell_type": "markdown",
   "metadata": {},
   "source": [
    "## FCN - 핵심 3단계\n",
    "- (1) Convolutionalization (Downsampling)\n",
    "    - FullyConneccted layer는 이미지의 위치정보를 사라지게 하는 한계를 가진다.\n",
    "    - **차라리 Fully Connected Layer를 없애고 1x1 Convolution을 사용 하자**\n",
    "    - 1x1 Convolution은 연산 reduction 장점을 가지고 있지만, 그런 목적이 아닌 FC 대신 위치 공간정보를 기억하는 용으로 사용하자\n",
    "- (2) Deconvolution (Upsampling)\n",
    "    - Interpolation / Unpooling / Shift and stitch\n",
    "    - **전체 이미지 대비 Coarse(대략적인 듬성듬성인) Feature map을 Dense(밀접한) map으로 Upsampling**\n",
    "- (3) Skip architecture\n",
    "    - 컨볼루션, 풀링 단계로 이뤄진 이전단계들의 컨볼루션층들의 특성맵을 활용하여 upsampling에 도와주는 방식\n",
    "    \n",
    "![fcn_coarse_dense](img/fcn_coarse_dense.png)"
   ]
  },
  {
   "cell_type": "markdown",
   "metadata": {},
   "source": [
    "## 다운샘플링 & 업샘플링\n",
    "- convolution 작업을 거치며 dimension이 줄었으니까 다시 늘려주는 up-sampling 작업이 필요\n",
    "- downsampling을 하고 upsampling 하는 과정에서 데이터가 유실되니까 deejet 개념을 만듬.\n",
    "\n",
    "- upsampling 에서의 데이터 유실문제\n",
    "    - upsampling을 보완하기 위해 Bilinear interpolation (사이 보간법) 방법 고려 \n",
    "    - Bilinear interpolation은 단순 사이 평균값으로 하는거라 별로 좋지 않았음\n",
    "    - deconvolution (컨볼루션의 반대, 필터 계수 학습을 할 수 있다는 장점이 있음) 방법을 사용 \n",
    "\n",
    "<hr>"
   ]
  },
  {
   "cell_type": "markdown",
   "metadata": {},
   "source": [
    "## Skip connection 구조\n",
    "- FCN-32s : 32배 upsampling하는 방법 / FCN-16s : 16배 upsampling\n",
    "- resnet의 skip connection과 같은 앞의 컨볼루션 정보를 받게 함.\n",
    "- skip connection을 적용하지 않은 경우 보다 세밀하지 못했음..\n",
    "   \n",
    "![skipconnection_여부](img/skipconnection_여부.png)\n",
    "\n",
    "- FCN-32s, FCN-16s, FCN-8s 등 실험, 번외로 CRF(Conditional Random Field)를 해봤더니 이것도 좋았다고 함.\n",
    "\n",
    "\n",
    "- Skip connection: fcn 16s\n",
    "![fcn_16s](img/fcn_16s.png)\n",
    "    \n",
    "- Skip connection: fcn 8s\n",
    "![fcn_8s](img/fcn_8s.png)\n",
    "    \n",
    "<hr>\n"
   ]
  },
  {
   "cell_type": "markdown",
   "metadata": {},
   "source": [
    "\n",
    "## FCN 요약\n",
    "- down sampling을 앞에서 이용했던 Feature들의 정보를 사용하였고, 업샘플링을할때 deconvolutional layer를 이용해서 upsampling을 하였다.\n",
    "\n",
    "![fcn2](img/fcn2.png)\n",
    "\n",
    "\n",
    "### FCN 문제점\n",
    "- **단지 downsampling을 하고 나중에 maxpooling을 진행하여, receptied field가 늘어나긴 하지만 결국엔 해상도를 잃어버리게 되고 점점 세밀하지못하게 됨.**\n",
    "- 따라서 upsampling에 대한 보완이 필요 => U-Net의 결과\n",
    "\n",
    "![fcn_result](img/fcn_result.png)"
   ]
  },
  {
   "cell_type": "markdown",
   "metadata": {},
   "source": [
    "## 참고문헌\n",
    "- https://medium.com/@msmapark2/fcn-%EB%85%BC%EB%AC%B8-%EB%A6%AC%EB%B7%B0-fully-convolutional-networks-for-semantic-segmentation-81f016d76204"
   ]
  }
 ],
 "metadata": {
  "kernelspec": {
   "display_name": "Python 3",
   "language": "python",
   "name": "python3"
  },
  "language_info": {
   "codemirror_mode": {
    "name": "ipython",
    "version": 3
   },
   "file_extension": ".py",
   "mimetype": "text/x-python",
   "name": "python",
   "nbconvert_exporter": "python",
   "pygments_lexer": "ipython3",
   "version": "3.7.5"
  }
 },
 "nbformat": 4,
 "nbformat_minor": 4
}
