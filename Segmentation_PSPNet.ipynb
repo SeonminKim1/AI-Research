{
 "cells": [
  {
   "cell_type": "markdown",
   "metadata": {},
   "source": [
    "## PSPNet (Pyramid Scene Parsing Network)\n",
    "- Paper : (2016) PSPNet - Pyramid Scene Parsing Network\n",
    "\n",
    "## FCN vs PSPNet\n",
    "- 기존 FCN 모델은 **Feature map에 존재하는 Local contextual information(모양, 형상, 재질의 특성)등을 활용 -> 비슷한 형상 또는 재질을 가진 물체를 구분하지 못함**\n",
    "\n",
    "- **PSPNet은 Local contextual information + global contextual information(feature map의 평균 또는 최고값)을 같이 활용**\n",
    "\n",
    "- Complex-scene parsing에 대해 정의 및 개선점 제안"
   ]
  },
  {
   "cell_type": "markdown",
   "metadata": {},
   "source": [
    "<hr>\n",
    "\n",
    "## Define Complex-scene\n",
    "- 3가지의 복잡한 경우의 문제를 잘 해결하기 위해서는 다양한 scale의 이미지 학습 필요\n",
    "\n",
    "![pspnet_complex_scene](img/pspnet_complex_scene.png)\n",
    "\n",
    "### 1. Mismatched Relationship\n",
    "- 주변 환경과 관계가 일치 하지 않는 것\n",
    "    - ex) 보트와 자동차는 외관이 비슷, 물위에 보트가 있는 그림인데 물위에 자동차로 인식 할 수 있음\n",
    "    \n",
    "### 2. Confusion Categories\n",
    "- 범주의 혼돈\n",
    "    - ex) mountain vs hill / build and skyscraper(고층빌딩) 등의 카테고리가 존재\n",
    "\n",
    "### 3. Inconspicuous Classes\n",
    "- 눈에 띄지 않는 클래스\n",
    "    - ex) 베게와 침대는 이어져있지만 구분되어야 하는 물체이다, 눈에 구분이 애매한 것들\n",
    "\n",
    "<hr>\n"
   ]
  },
  {
   "cell_type": "markdown",
   "metadata": {},
   "source": [
    "\n",
    "## PSPNet Model Structure\n",
    "- Local contextual information과 Global contextual information을 구한 뒤 최종 concatenation 진행\n",
    "\n",
    "![pspnet_model](img/pspnet_model.png)\n",
    "\n",
    "\n",
    "### Local contextual information\n",
    "- feature map이 아래 그림과 같다면, **변화가 심한 대각선과 세로 방향등의 지역 대표 필터가 나올 것**\n",
    "\n",
    "![pspnet_local_contextual_information](img/pspnet_local_contextual_information.png)\n",
    "\n",
    "### Global contextual information\n",
    "- **Feature map은 Pooling을 해서 1×1×N, 2×2×N, 3×3×N, 그리고 6×6×N 의 크기를 가진 sub-region으로 만듬**\n",
    "- **균등된 크기로 분리하기 sub-region을 만들기 때문에 형상과 주변 상황을 모두 고려가능**\n",
    "\n",
    "![pspnet_global_contextual_information](img/pspnet_global_contextual_information.png)\n",
    "\n"
   ]
  },
  {
   "cell_type": "markdown",
   "metadata": {},
   "source": [
    "<hr>\n",
    "\n",
    "## 결론 및 요약\n",
    "- **PSPNet은 Feature map을 사용해 얻은 Local Contextual information 뿐만 아니라 Pyramid Pooling을 통해 얻은 object/stuff의 주변 환경 정보인 Global contextual information을 Segmentation을 위한 또 다른 정보로 활용**하여 성능을 높임\n",
    "\n",
    "## 참고문헌\n",
    "\n",
    "- https://intuitive-robotics.tistory.com/50"
   ]
  },
  {
   "cell_type": "markdown",
   "metadata": {},
   "source": []
  }
 ],
 "metadata": {
  "kernelspec": {
   "display_name": "Python 3",
   "language": "python",
   "name": "python3"
  },
  "language_info": {
   "codemirror_mode": {
    "name": "ipython",
    "version": 3
   },
   "file_extension": ".py",
   "mimetype": "text/x-python",
   "name": "python",
   "nbconvert_exporter": "python",
   "pygments_lexer": "ipython3",
   "version": "3.7.5"
  }
 },
 "nbformat": 4,
 "nbformat_minor": 4
}
