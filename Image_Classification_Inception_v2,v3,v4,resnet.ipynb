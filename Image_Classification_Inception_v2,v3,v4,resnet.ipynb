{
 "cells": [
  {
   "cell_type": "markdown",
   "metadata": {},
   "source": [
    "## Inception V2, V3\n",
    "- Paper : Rethinking the Inception Architecture for Computer Vision\n",
    "- Inception V2와 V3 는 같이 나옴.\n",
    "\n",
    "<hr>\n",
    "\n",
    "### 주요기법 1) Tensor Factorization\n",
    "- **n x n 을 => 1xn, nx1 로 바꾸는것**이 보다 효율적임\n",
    "![tensor_factorization](img/tensor_factorization.png)\n",
    "\n",
    "\n",
    "### 주요기법 2) Grid Reduction 방법\n",
    "- Grid란 FeatureMap 크기?? 이런느낌\n",
    "- Pooling과 Conv 중 어느걸 먼저 해야될지에 대한 논쟁\n",
    "- **Pooling을 먼저 할 시 Representational Bottleneck 현상 발생 - 해상도가 바로 줄고 정보 손실이 있음**\n",
    "- **CNN을 먼저 할 시 Pooling 먼저 하는 것보단 연산량이 좀더 많다 (expansive computation)**\n",
    "- 두개의 장단점이 있고 두개를 잘 조합해서 하자라고 함 (Grid Reduction 모듈)"
   ]
  },
  {
   "cell_type": "markdown",
   "metadata": {},
   "source": [
    "<hr>\n",
    "\n",
    "### Inception Module - Basic,  A, B, C 차이\n",
    "- Module Basic : 5x5, 3x3, 1x1, pooling 사용\n",
    "- Module A : VGG영향으로 5x5를 3x3 2개로 변경 모듈\n",
    "- Module B : Tensor Facotrization 두 번 적용 된 것 (NxN -> 1xn, nx1)\n",
    "- Module C : Grid Reduction 적용 된 것 (Pooling vs Conv)\n",
    "\n",
    "![inception_module](img/inception_module.png)"
   ]
  },
  {
   "cell_type": "markdown",
   "metadata": {},
   "source": [
    "<hr>\n",
    "\n",
    "### Inception V2, V3\n",
    "- Tensor Factorization 을 이용하여 연산량을 매우감소시킴\n",
    "- Grid Reduction 사용을 통한 연산량 감소\n",
    "- 22개 층 모델이지만, AlexNet 모델에 비해 가중치 개수는 10% 증가\n",
    "\n",
    "\n",
    "- 최종 Inception V3 (V2 와 모델 구조 동일)\n",
    "    - V2만들고 이것저것 조합해서 좋은걸 낸걸 V3\n",
    "    \n",
    "![inception_v3](img/inception_v3.PNG)"
   ]
  },
  {
   "cell_type": "markdown",
   "metadata": {},
   "source": [
    "<hr>\n",
    "\n",
    "## Inception V4, V4-ResNet\n",
    "- Paper : Inception-v4, Inception-ResNet and the Impact of Residual Connections on Learning\n",
    "- 기존 V3에서 V4로 확장\n",
    "- Inception v3 -> residual 적용 : Inception-resnet.v1\n",
    "- Inception v4 -> residual 적용 : Inception-resnet.v2\n",
    "\n",
    "![inception_v4](img/inception_v4.png)"
   ]
  },
  {
   "cell_type": "markdown",
   "metadata": {},
   "source": [
    "### Stem Layer\n",
    "- Layer들의 일반 Conv 레이어들을 stem영역이라고 지칭 (v3 기준)\n",
    "- Inception.v4 에서는 이 부분을 약간 손봄 (v4)\n",
    "\n",
    "### Inception Module A,B,C\n",
    "- 입출력 크기의 변화가 없음 (Input과 Output의 크기가 같음)\n",
    "\n",
    "### Reduction Module - A, B\n",
    "- Reduction 모듈에서는 Input과 output의 크기에 변화가 있음\n",
    "- 기존 Inception.v3 모델을 이것저것 실험해보면서 조합한 느낌\n",
    "\n",
    "![Inception_module_Reduction_a_b](img/Inception_module_Reduction_a_b.png)\n",
    "\n",
    "### Inception-ResNet v1, v2\n",
    "\n",
    "![inception_module_resnet_v1_v2](img/inception_module_resnet_v1_v2.png)"
   ]
  },
  {
   "cell_type": "markdown",
   "metadata": {},
   "source": [
    "<hr>\n",
    "\n",
    "### Inception resnet 의 장점 및 평가지표\n",
    "- Inception v3 보다 학습 수렴속도가 빠르다\n",
    "\n",
    "![Inception_resnet_vs_inception_v3](img/Inception_resnet_vs_inception_v3.png)\n",
    "\n",
    "\n",
    "![Inception_resnet_vs_inception_v3_metric](img/Inception_resnet_vs_inception_v3_metric.png)\n"
   ]
  },
  {
   "cell_type": "markdown",
   "metadata": {},
   "source": [
    "<hr>\n",
    "\n",
    "## Inception 계열 요약\n",
    "\n",
    "#### Inception v1\n",
    "- 다양한 feature를 뽑기 위해 여러 conv 병렬 사용(sparse conv & Dense matrix-concat)\n",
    "- 1x1 conv를 통해 차원압축했다가 다시 증가\n",
    "- 망이 깊어질때 보조  Layer를 통해 gradient vanishing 문제를 해결\n",
    "\n",
    "#### Inception v2 / v3\n",
    "- 주요기법 1) Tensor Factorziation을 이용한 연산량 감소 (n x n => 1xn , nx1)\n",
    "- 주요기법 2) Grid Reduction (Pooling과 Conv중 먼저 할것을 골라 하는 것) Pooling 먼저시 정보손실 좀있음(Representational bottleneck이라고 함) / Conv 먼저시 연산량 좀더 많음(expansive computation)\n",
    "- Inception 모듈들을 해당 기법들로 구성한 것 전체 모델들 v2들\n",
    "- 이중에 좋아보이는 것을 v3\n",
    "\n",
    "#### Inception v4 / ResNet\n",
    "- ResNet 적용 및 조합해서 Reduction Module만들고 Inception Module ABC 잘 섞어 씀\n",
    "- 학습 수렴속도가 Inception v3 보다 좀더 빨랐다고 함 "
   ]
  }
 ],
 "metadata": {
  "kernelspec": {
   "display_name": "Python 3",
   "language": "python",
   "name": "python3"
  },
  "language_info": {
   "codemirror_mode": {
    "name": "ipython",
    "version": 3
   },
   "file_extension": ".py",
   "mimetype": "text/x-python",
   "name": "python",
   "nbconvert_exporter": "python",
   "pygments_lexer": "ipython3",
   "version": "3.7.5"
  }
 },
 "nbformat": 4,
 "nbformat_minor": 4
}
