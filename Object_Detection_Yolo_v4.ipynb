{
 "cells": [
  {
   "cell_type": "markdown",
   "metadata": {},
   "source": [
    "## YOLO V4\n",
    "- paper : (2020) YOLOv4 - Optimal Speed and Accuracy of Object Detection\n",
    "\n",
    "- 낮은 FPS(실시간 X)와 너무나 큰 mini-batch-size로 인해 학습하는데 많은 수의 GPU들이 필요하다는 단점이 존재\n",
    "- 일반적인 학습 환경에서도 높은 정확도와 빠른 object detector를 학습가능 (1 GPU만 있어도 충분)\n",
    "- YOLO v4는 EfficientDet과 비슷한 AP 성능을 내면서, 2배 더 빠른 FPS를 보유. YOLO v3에 비해서 AP는 10%, FPS는 12% 향상\n",
    "\n",
    "![yolov4](img/yolov4.png)\n",
    "\n",
    "<hr>\n"
   ]
  },
  {
   "cell_type": "markdown",
   "metadata": {},
   "source": [
    "\n",
    "### 주요 아이디어 목록\n",
    "- 1) WRC (Weighted-Residual-Connections)\n",
    "- 2) CSP (Cross-Stage-Partial-Connections)\n",
    "- 3) CmBN (Cross mini-Batch Normalizations)\n",
    "- 4) SAT (Self-Adversarial-Training)\n",
    "- 5) Mish Activation\n",
    "- 6) Mosaic Data Agumentation\n",
    "- 7) Drop Block Regularization\n",
    "- 8) CIOU Loss"
   ]
  },
  {
   "cell_type": "markdown",
   "metadata": {},
   "source": [
    "## Detector 개념\n",
    "\n",
    "### 1. Object Detection Models Structure\n",
    "- 최신 detector는 주로 백본(Backbone)과 헤드(Head)라는 두 부분으로 구성 (추가적으로 넥(Neck))\n",
    "    - **백본 : 입력 이미지를 feature map으로 변형**\n",
    "    - **헤드 : Backbone에서 추출한 feature map의 location 작업을 수행**\n",
    "        - predict classes\n",
    "        - bounding boxes 작업이 수행\n",
    "        \n",
    "- Head 종류 2가지 (1stage vs 2stage)\n",
    "    - **Sparse Prediction 헤드**\n",
    "        - Two-Stage Detector는 대표적으로 Faster R-CNN, R-FCN\n",
    "        - Predict Classes와 Bounding Box Regression 부분이 분리\n",
    "    - **Dense Prediction 헤드**\n",
    "        - One-Stage Detector는 대표적으로  YOLO, SSD\n",
    "        - Predict Classes와 Bounding Box Regression이 통합\n",
    "        \n",
    "- **넥(Neck)은 Backbone과 Head를 연결하는 부분**\n",
    "    - feature map을 refinement(정제), reconfiguration(재구성)함\n",
    "    - ex) FPN(Feature Pyramid Network), PAN(Path Aggregation Network), BiFPN, NAS-FPN 등\n",
    "    \n",
    "### 2. Bag of Freebies (BOF)\n",
    "- BOF는 **Inference cost의 변화 없이 (공짜로) 성능 향상이 되는 딥러닝 기법**\n",
    "- ex) **Data Augmentation : CutMix, Mosaic 등** \n",
    "- ex) **Regularization : Dropout, Dropblock, DropPath 등**\n",
    "- ex) **BBox Regression의 loss 함수 : IOU loss, CIOU loss 등 **\n",
    "\n",
    "![yolov4_bag_of_freebies](img/yolov4_bag_of_freebies.png)\n",
    "\n",
    "\n",
    "### 3. Bag of Specials (BOS)\n",
    "- BOS는 BOF의 반대로, **Inference cost가 조금 상승하지만, 성능 향상이 되는 딥러닝 기법**\n",
    "- **ex) Enhance Receptive filed : SPP, ASPP, RFB **\n",
    "- **ex) Feature Integration : Skip-connection, Hyper-column, Bi-FPN **\n",
    "- **ex) 최적 Activation function : P-ReLU, ReLU6, Mish**\n",
    "\n",
    "    ![yolov4_bag_of_specials](img/yolov4_bag_of_specials.png)"
   ]
  },
  {
   "cell_type": "markdown",
   "metadata": {},
   "source": [
    "![yolov4_selection_bof_bos](img/yolov4_selection_bof_bos.png)\n"
   ]
  },
  {
   "cell_type": "markdown",
   "metadata": {},
   "source": [
    "<hr>\n",
    "\n",
    "## YOLO V4 Architecture\n",
    "- **1) Backbone : CSP-Darkent53**\n",
    "- **2) Neck : SPP(Spatial Pyramid Pooling), PAN(Path Aggregation Network)**\n",
    "- **3) Head : YOLO-v3**\n",
    "- **4) BoF & BoS 기법들**\n",
    "\n",
    "![yolov4_selection_bof_bos](img/yolov4_selection_bof_bos.png)\n",
    "\n",
    "### BOF\n",
    "- 데이터 증강법(Data Augmentation)\n",
    "    - **CutMix : 한 이미지에 2개의 class를 넣은 것**\n",
    "    - **Mosaic Data Augmentation : 한 이미지에 4개의 class를 넣은 것**\n",
    "    \n",
    "    ![yolov4_mixup_cutmix](img/yolov4_mixup_cutmix.png)\n",
    "    \n",
    "- Regularization (규제) \n",
    "    - **DropBlock Regularization : 랜덤하게 out시키는 DropOut과는 달리, 일정한 범위를 out 시킴**\n",
    "\n",
    "- Smooth Labeling\n",
    "    - label을 0.1, 0.9와 같은 확률로 표시 / label을 0 또는 1이 아니라 smooth하게 부여하여, calibration 및 regularization 효과를 얻게 되어 overfitting 문제를 방지\n",
    "\n",
    "### BOS (Bag of Specials)\n",
    "- Activation\n",
    "    - **Mish Activation : 활성화 함수에 관한 최신 기법**\n",
    "        - f(x) = x * tanh(softplus(x)) / softplus(x) = ln(1 + e^x)\n",
    "        - 0에 가까운 기울기로 인해, 훈련 속도가 급격히 느려지는 포화(Saturation) 문제 방지\n",
    "            - ReLu보다 Mish의 gradient가 좀 더 smooth함\n",
    "        - 강한 규제(Regularation) 효과로 overfitting 문제 방지\n",
    "    - 학습이 어려워서 PReLU, SELU를 제외하였고, ReLU6도 quantized network에 특화된 함수여서 제외\n",
    "    \n",
    "![yolov4_mish_activation](img/yolov4_mish_activation.png)\n",
    "\n",
    "- Enhance Receptive Field\n",
    "    - **CSP(Cross-Stage Partial connections) : 기존의 CNN 네트워크의 연산량을 줄이는 기법**\n",
    "        - 원문에서 제안하는 CSP Net은 연산량을 20% 줄이면서 높은 AP를 가짐\n",
    "        - CSPNet은 굉장히 heavy한 inference cost를 완화시키며 정확도 손실을 최소로 할 수 있는 Cross Stage Partial Network 구조를 제안\n",
    "        - input feature map을 2개의 part로 나눈 뒤, 하나의 part는 연산에 참여시키지 않고 뒤에서 합쳐주는 방식을 기반으로 inference cost, memory cost 등을 줄임\n",
    "        - 학습 관점에서는 gradient flow를 나눠줘서 학습에 좋은 영향을 줘서 정확도 손실이 적다고 주장\n",
    "        - CSPNet은 input feature net을 2파트로 나누어 절반만 연산의 포함시키며 연산 후에 concat으로 합침\n",
    "        - CSPResNext50 / CSPDarknet53 / EfficientNet-B3 중 CSPDarkNet53 선택 (처리속도가 제일빠름)\n",
    "\n",
    "![yolov4_cspnet](img/yolov4_cspnet.png)\n",
    "\n",
    "<hr>\n"
   ]
  },
  {
   "cell_type": "markdown",
   "metadata": {},
   "source": [
    "\n",
    "### 새로운 기술 제안\n",
    "- Mosiac augmentation\n",
    "    - 네가지 이미지를 하나의 이미지로 합쳐줌\n",
    "    - 한개의 이미지로 네개의 이미지 학습 효과 (=배치 사이즈가 4배)\n",
    "    \n",
    "![yolov4_mosiac](img/yolov4_mosiac.png)\n",
    "\n",
    "\n",
    "#### Self-Adversarial Training (SAT)\n",
    "- Adversarial attack을 가한 이미지를 기존의 gt(ground-truth)로 학습하여, 모델이 좀더 디테일한 영역을 학습 시키게 함\n",
    "    \n",
    "![yolov4_self_advertising](img/yolov4_self_advertising.png)\n",
    "\n",
    "#### CmBN (Cross mini-Batch Normalizations)\n",
    "- Batch Norm을 수정한 CmBN을 제안\n",
    "\n",
    "![yolov4_cmbn](img/yolov4_cmbn.png)\n",
    "\n",
    "#### Modified SAM and PAN\n",
    "![yolov4_sam_pan](img/yolov4_sam_pan.png)\n",
    "\n",
    "<hr>"
   ]
  },
  {
   "cell_type": "markdown",
   "metadata": {},
   "source": [
    "## YOLO V4 Experimental Result\n",
    "\n",
    "### Classification Result\n",
    "\n",
    "- CutMix, Mosaic Augmentation과 Label Smoothing을 적용하여 성능이 약간 향상\n",
    "- Activation Function으로는 ReLU대비 Swish는 오히려 안 좋은 결과를 보임\n",
    "- Mish를 사용할 때 큰 폭의 성능 향상\n",
    "\n",
    "![yolov4_classification_result](img/yolov4_classification_result.png)\n",
    "\n",
    "\n",
    "### Object Detection Result\n",
    "- M : Mosaic Augmentation을 의미\n",
    "- GA :  Mosaic를 제안한 Glenn Jocher의 도움을 받아서 진행한 방식, 유전 알고리즘을 이용한 hyper parameter search를 의미\n",
    "- CBN : Cross mini-Batch Normalization\n",
    "- CA : Cosine Annealing Learning Rate scheduling을 의미\n",
    "- OA : YOLOv2에서 제안된 k-means 기반의 사전에 정해 놓은 anchor 크기를 사용하는 것을 의미\n",
    "- 512x512 input resolution에 최적화된 anchor들을 사용\n",
    "- loss : MSE, GIoU, DIoU, CIoU 등을 사용\n",
    "- 각각을 적용하였을 때의 Ablation study 결과 제시\n",
    "\n",
    "![yolov4_result](img/yolov4_result.png)\n",
    "\n",
    "<hr>"
   ]
  },
  {
   "cell_type": "markdown",
   "metadata": {},
   "source": [
    "## 참고문헌\n",
    "- https://ropiens.tistory.com/33\n",
    "- https://hoya012.github.io/blog/yolov4/"
   ]
  }
 ],
 "metadata": {
  "kernelspec": {
   "display_name": "Python 3",
   "language": "python",
   "name": "python3"
  },
  "language_info": {
   "codemirror_mode": {
    "name": "ipython",
    "version": 3
   },
   "file_extension": ".py",
   "mimetype": "text/x-python",
   "name": "python",
   "nbconvert_exporter": "python",
   "pygments_lexer": "ipython3",
   "version": "3.7.5"
  }
 },
 "nbformat": 4,
 "nbformat_minor": 4
}
