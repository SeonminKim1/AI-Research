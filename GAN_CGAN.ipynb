{
 "cells": [
  {
   "cell_type": "markdown",
   "metadata": {},
   "source": [
    "## Conditional GAN\n",
    "\n",
    "- Paper : (2014) CGAN - Conditional Generative Adversarial Nets(CGAN)\n",
    "- GAN의 변형 모델로, 조건부(Conditional GAN)\n",
    "- Generator와 Discriminator에 특정 condition을 나타내는 정보 y를 가해주면 됨\n",
    "\n",
    "## CGAN Introduction\n",
    "- 적대신경망은 **Markov chain이 필요없이 오직 back-propagation만으로 학습이 가능**\n",
    "- Unconditional 생성모델에서, 데이터가 생성되는 종류(mode)를 제어할 방법 x\n",
    "    - 조건 설정 (class label등의 기반) 데이터 생성 과정을 제어 가능\n",
    "    \n",
    "    \n",
    "![cgan_architecture2](img/cgan_architecture2.png)\n",
    "\n",
    "<hr>"
   ]
  },
  {
   "cell_type": "markdown",
   "metadata": {},
   "source": [
    "### GAN vs CGAN Objective Function\n",
    "- G와 D에 추가 정보 y라는 조건이 붙어 조건부 생성 모델을 만듬.\n",
    "- 결국에 데이터 분포와 판별에 대한 단순 조건부(|y) 만 붙인 것. \n",
    "\n",
    "![gan_loss](img/gan_loss.PNG)\n",
    "\n",
    "![CGAN_Obj_func](img/CGAN_Obj_func.png)\n",
    "\n",
    "\n",
    "<hr>\n"
   ]
  },
  {
   "cell_type": "markdown",
   "metadata": {},
   "source": [
    "\n",
    "## Test \n",
    "\n",
    "### Unimodal\n",
    "- MNIST 0부터 9까지의 각각의 class label 사용\n",
    "\n",
    "- G Model\n",
    "    - uniform distribution z, size=100\n",
    "    - z와 y는 size 200, 1000짜리 hidden layer로 각각 매핑\n",
    "    - 1200짜리 hidden layer로 합쳐짐\n",
    "    - 마지막 1200 to 784 (MNIST $28^2$)\n",
    "- D Model\n",
    "    - x는 240 unit과 5piece 짜리 maxout layer로 매핑\n",
    "    - y는 50 unit과 5piece 짜리 maxout layer로 매핑\n",
    "    - 240unit, 5 piece 짜리 maxout layer로 합쳐진 후 sigmoid\n",
    "\n",
    "#### CGAN 및 다른 모델의 Log likelihood 값 비교\n",
    "![cgan_log_likelihood](img/cgan_log_likelihood.png)\n",
    "\n",
    "#### MNIST 생성된 이미지들\n",
    "![cgan_unimodel](img/cgan_unimodel.png)\n",
    "\n",
    "### Multimodal\n",
    "- 여러 이미지들에 대해 사람이 직접 넣은 태그와 CGAN이 생성해낸 태그를 비교\n",
    "- 사람 : food, raspberry, dlicious, homemade 등으로 예측, 생성태그 : chicken, fattening cooked, peanut ....\n",
    "\n",
    "![cgan_multimodal](img/cgan_multimodal.png)\n",
    "\n",
    "<hr>"
   ]
  },
  {
   "cell_type": "markdown",
   "metadata": {},
   "source": [
    "## 참고문헌\n",
    "- https://blog.naver.com/PostView.nhn?blogId=laonple&logNo=221306150417\n",
    "- https://greeksharifa.github.io/generative%20model/2019/03/19/CGAN/"
   ]
  }
 ],
 "metadata": {
  "kernelspec": {
   "display_name": "Python 3",
   "language": "python",
   "name": "python3"
  },
  "language_info": {
   "codemirror_mode": {
    "name": "ipython",
    "version": 3
   },
   "file_extension": ".py",
   "mimetype": "text/x-python",
   "name": "python",
   "nbconvert_exporter": "python",
   "pygments_lexer": "ipython3",
   "version": "3.7.5"
  }
 },
 "nbformat": 4,
 "nbformat_minor": 4
}
