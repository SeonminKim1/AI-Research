{
 "cells": [
  {
   "cell_type": "markdown",
   "metadata": {},
   "source": [
    "## EfficientNet v2\n",
    "- Paper : (2021)_EfficientNet V2-Smaller Models and Faster Training\n",
    "\n",
    "- 기존의 EfficientNet은 NAS를 활용한 baseline mocel (B0)을 생성 후 compound scaling을 활용해 파라미터는 많이 증가시키지 않은채로 네트워크의 capacity를 증가시키는 방법\n",
    "- **Training efficiency를 향상시키기 위해 빠른 학습과 효율적인 파라미터 사용에 집중**\n",
    "- **이미지 크기에 따라 정규화 조정하는 progressive learning 방법 제안**\n",
    "\n",
    "\n",
    "![efficientnet_v2_efficiency](img/efficientnet_v2_efficiency.PNG)\n",
    "\n",
    "- Efficientnet v1 대비 학습속도(4배), 파라미터(6.8배) 로 비슷한 정확도 달성"
   ]
  },
  {
   "cell_type": "markdown",
   "metadata": {},
   "source": [
    "<hr>\n",
    "\n",
    "### Efficiency 및 병목 현상에 대한 연구\n",
    "- 학습 속도를 느리게 하는 3가지 요소 설명\n",
    "\n",
    "#### 1. Training with very large image sizes is slow\n",
    "    - 큰 입력 이미지로 학습시, 메모리가 제한되어 적은 batch size로 학습하게 되며, 전체 이미지 학습에 시간이 오래걸림\n",
    "\n",
    "#### 2. Depthwise convolutions are slow in early layers\n",
    "![efficientnet_v2_mbconv](img/efficientnet_v2_mbconv.png)\n",
    "- Depthwise convolution은 MobileNetV1, Xception에서 제안된 방법\n",
    "- Depthwise convolution은 conv 연산량을 낮춰, 제한된 연산량 내에 더 많은 filter를 사용할 수 있는 이점\n",
    "- Depthwise convolution은 modern accelerator를 활용x \n",
    "    - 학습 속도를 느리게 함\n",
    "- MBConv를 Fused-MBConv로 일부 대체(초기 stage만) 및 두 블록의 최적 조합으로 구성\n",
    "- **Fused-MBConv는 MBConv의 1x1 conv + 3x3 depthwise conv 대신, 하나의 3x3conv를 사용**\n",
    "![efficientnet_v2_fused_mbconv](img/efficientnet_v2_fused_mbconv.png)\n",
    "\n",
    "#### 3. Equally scaling up every stage is sub-optimal\n",
    "- 기존 EfficientNet : compound scaling을 통해 모든 Stage에 동일하게 모델 확장 \n",
    "    - ex) depth가 2이면 모드 stage(=block개념)의 layer가 2배\n",
    "- stage마다 훈련 속도에 기여하는 정도가 다르며, **non-uniform scaling 전략 사용**\n",
    "    - non-uniform scaling strategy :  stage가 증가할 수록 layer가 증가하는 정도를 높인 것\n",
    "- compound scaling의 이미지 사이즈에 따른 훈련 효율 감소 최소화를 위해 이미지 사이즈 최댓값을 작은 값으로 제한\n",
    "- progressive learning시 학습 속도 느리게 하는 것 방지\n",
    "\n",
    "<hr>\n"
   ]
  },
  {
   "cell_type": "markdown",
   "metadata": {},
   "source": [
    "### Progressive Learning\n",
    "- **훈련 시 이미지의 크기를 점진적으로 증가시키는 것**\n",
    "- 학습 속도를 빠르게 하기 위해 사용하지만, 정확도가 감소한다는 문제점 존재\n",
    "    - 정확도 감소의 문제는 작은 이미지에 동일한 정규화를 사용하기 때문\n",
    "- 입력 이미지 크기에 따라 정규화 방법 다르게 설정\n",
    "    - **입력 이미지가 작을 시 약한 정규화**\n",
    "        - Augmentation / Dropout / Mixup 확률을 낮게 설정\n",
    "    - **입력 이미지가 클 시 강한 정규화**\n",
    "        - Augmentation / Dropout / Mixup 확률 높게 설정\n",
    "    - 입력 이미지가 커질 수록 RandAug magnitude를 높게 설정하여 성능이 향상\n",
    "    \n",
    "#### Progressive Results\n",
    "- 입력 이미지가 커질 수록 RandAug manitude를 높게 설정, 성능 향상\n",
    "\n",
    "![efficientnet_v2_progressive_learning](img/efficientnet_v2_progressive_learning.png)\n",
    "\n",
    "![efficientnet_v2_progressive_learning2](img/efficientnet_v2_progressive_learning2.png)\n",
    "\n",
    "#### Progressive Training Setting\n",
    "- 입력 이미지가 커질수록 점진적으로 Option 값 증가\n",
    "\n",
    "![efficientnet_v2_progressive_learning3](img/efficientnet_v2_progressive_learning3.png)\n",
    "\n",
    "\n",
    "#### Progressive 다른 모델 적용\n",
    "- 다른 모델에 적용해도 성능 향상\n",
    "\n",
    "![efficientnet_v2_progressive_learning_result](img/efficientnet_v2_progressive_learning_result.png)\n"
   ]
  },
  {
   "cell_type": "markdown",
   "metadata": {},
   "source": [
    "### EfficientNet v2 Architecture & Performance\n",
    "\n",
    "![efficientnet_v2_architecture](img/efficientnet_v2_architecture.png)\n",
    "\n",
    "![efficientnet_v2_performance](img/efficientnet_v2_performance.png)\n",
    "\n",
    "<hr>"
   ]
  },
  {
   "cell_type": "markdown",
   "metadata": {},
   "source": [
    "## 참고문헌\n",
    "\n",
    "- https://seing.tistory.com/164\n",
    "- https://deep-learning-study.tistory.com/567"
   ]
  }
 ],
 "metadata": {
  "kernelspec": {
   "display_name": "Python 3",
   "language": "python",
   "name": "python3"
  },
  "language_info": {
   "codemirror_mode": {
    "name": "ipython",
    "version": 3
   },
   "file_extension": ".py",
   "mimetype": "text/x-python",
   "name": "python",
   "nbconvert_exporter": "python",
   "pygments_lexer": "ipython3",
   "version": "3.7.5"
  }
 },
 "nbformat": 4,
 "nbformat_minor": 2
}
