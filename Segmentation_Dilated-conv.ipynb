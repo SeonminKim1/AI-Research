{
 "cells": [
  {
   "cell_type": "markdown",
   "metadata": {},
   "source": [
    "## Object Detection과 Segmentation의 차이\n",
    "- **Object-detection은 bbox내에 물체가 얼마큼의 확률로 그 물체인지**를 구분해내는 문제\n",
    "- **Segmentation은 픽셀마다 그 픽셀이 어느물체를 말하는지**를 찾는 문제 **(Dense prediction 이라고도 함)**"
   ]
  },
  {
   "cell_type": "markdown",
   "metadata": {},
   "source": [
    "## Dilated Convolution\n",
    "- Paper : (2015)_Multi Scale Context Aggregation by Dilated Convolutions\n",
    "\n",
    "\n",
    "## 주요 기법 : Dilated Convolution\n",
    "- **Convolutional layer에 필터 사이의 간격을 정의하는 dilation factor를 도입**\n",
    "    - ex) Dilation(팽창) Factor가 2인 3x3 필터는 5x5 필터와 동일한 Receptive Field(RF)를 가짐\n",
    "- **Dilation Convolution을 하면 filter의 크기만 늘어날 뿐 parameter 갯수는 일정함**\n",
    "- **해상도의 손실 없이 receptive field의 크기를 확장할 수 있다는 뜻**\n",
    "\n",
    "![dilated_conv_dilation_convolution](img/dilated_conv_dilation_convolution.jpg)\n",
    "\n",
    "- 빨간색 점 위에 나머지 값들은 0으로 채워짐\n",
    "- (a) 3x3 크기의 필터, parameter 9개\n",
    "- (b) 7x7 크기의 필터, parameter 9개\n",
    "- (c) 15x15 크기의 필터, parameter 9개\n",
    "\n",
    "<hr>"
   ]
  },
  {
   "cell_type": "markdown",
   "metadata": {},
   "source": [
    "## Dilated-conv Network Module\n",
    "\n",
    "### Module 1. Front-end module\n",
    "\n",
    "![dilated_conv_model](img/dilated_conv_model.png)\n",
    "\n",
    "- VGG16 네트워크를 Dense-prediction 목적에 맞게 수정해서 만듬\n",
    "- VGG16의 Pool4,5 제거 및 **원영상의 1/8 수준에서 다시 Up-sampling을 진행하여 복원 과정에서 detail한 정보들이 많이 살았음**\n",
    "- conv5,6은 일반적인 conv 사용하는 대신 2-dilated conv와 4-dilated conv를 사용\n",
    "- skip layer도 없고 망도 더 간단해졌기에 연산 측면에서 훨씬 가벼워짐\n",
    "\n",
    "\n",
    "### Module 2. Context module\n",
    "- **다중 scale의 context를 잘 추출하기 위한 context 모듈 개발 (basic, large 모듈 존재)**\n",
    "    - basic은 feature map의 갯수가 동일 \n",
    "    - large는 feature map의 갯수가 늘었다가 줄어듬\n",
    "\n",
    "- **전부 Convolution layer로만 이루어졌으며, front-end 모듈 뒤에 context 모듈 배치 가능**\n",
    "\n",
    "![dilated_conv_context_module](img/dilated_conv_context_module.png)\n"
   ]
  },
  {
   "cell_type": "markdown",
   "metadata": {},
   "source": [
    "<hr>\n",
    "\n",
    "## Dilated-conv 결과\n",
    "- **Dilation 계수 조절을 통해 Parameter의 증가 없이도 Receptive Field 영역을 조절하고, 다양한 scale에 대한 정보를 뽑아 낼 수 있어 multi-scale에 대응 가능**\n",
    "\n",
    "<hr>"
   ]
  },
  {
   "cell_type": "markdown",
   "metadata": {},
   "source": [
    "\n",
    "### Dilated-conv Front-end와 다른 모델들과의 비교\n",
    "- Front-end 모듈만 적용해도 다른 Segmentation 논문들보다 성능이 개선\n",
    "\n",
    "![dilated_conv_result](img/dilated_conv_result.png)\n",
    "\n",
    "### Dilated-conv Front-end + option 결과 비교\n",
    "- context 모듈 및 CRF+RNN을 추가하면 보다 추가적인 성능의 개선이 있음\n",
    "\n",
    "![dilated_conv_result2](img/dilated_conv_result2.png)\n"
   ]
  },
  {
   "cell_type": "markdown",
   "metadata": {},
   "source": [
    "## 참고문헌 \n",
    "- https://dogfoottech.tistory.com/165"
   ]
  }
 ],
 "metadata": {
  "kernelspec": {
   "display_name": "Python 3",
   "language": "python",
   "name": "python3"
  },
  "language_info": {
   "codemirror_mode": {
    "name": "ipython",
    "version": 3
   },
   "file_extension": ".py",
   "mimetype": "text/x-python",
   "name": "python",
   "nbconvert_exporter": "python",
   "pygments_lexer": "ipython3",
   "version": "3.7.5"
  }
 },
 "nbformat": 4,
 "nbformat_minor": 4
}
